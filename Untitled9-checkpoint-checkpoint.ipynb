{
 "cells": [
  {
   "cell_type": "code",
   "execution_count": 30,
   "id": "fcd924cd",
   "metadata": {},
   "outputs": [],
   "source": [
    "import pandas as pd"
   ]
  },
  {
   "cell_type": "code",
   "execution_count": 31,
   "id": "956af893",
   "metadata": {},
   "outputs": [],
   "source": [
    "import numpy as np"
   ]
  },
  {
   "cell_type": "code",
   "execution_count": 32,
   "id": "e81c6ac0",
   "metadata": {},
   "outputs": [],
   "source": [
    "data=pd.read_csv('find.csv')"
   ]
  },
  {
   "cell_type": "code",
   "execution_count": 18,
   "id": "2f41b171",
   "metadata": {},
   "outputs": [
    {
     "data": {
      "text/html": [
       "<div>\n",
       "<style scoped>\n",
       "    .dataframe tbody tr th:only-of-type {\n",
       "        vertical-align: middle;\n",
       "    }\n",
       "\n",
       "    .dataframe tbody tr th {\n",
       "        vertical-align: top;\n",
       "    }\n",
       "\n",
       "    .dataframe thead th {\n",
       "        text-align: right;\n",
       "    }\n",
       "</style>\n",
       "<table border=\"1\" class=\"dataframe\">\n",
       "  <thead>\n",
       "    <tr style=\"text-align: right;\">\n",
       "      <th></th>\n",
       "      <th>sky</th>\n",
       "      <th>air temp</th>\n",
       "      <th>humidity</th>\n",
       "      <th>wind</th>\n",
       "      <th>water</th>\n",
       "      <th>forecast</th>\n",
       "      <th>enjoy sport</th>\n",
       "    </tr>\n",
       "  </thead>\n",
       "  <tbody>\n",
       "    <tr>\n",
       "      <th>0</th>\n",
       "      <td>sunny</td>\n",
       "      <td>warm</td>\n",
       "      <td>normal</td>\n",
       "      <td>strong</td>\n",
       "      <td>warm</td>\n",
       "      <td>same</td>\n",
       "      <td>yes</td>\n",
       "    </tr>\n",
       "    <tr>\n",
       "      <th>1</th>\n",
       "      <td>sunny</td>\n",
       "      <td>warm</td>\n",
       "      <td>high</td>\n",
       "      <td>strong</td>\n",
       "      <td>warm</td>\n",
       "      <td>same</td>\n",
       "      <td>yes</td>\n",
       "    </tr>\n",
       "    <tr>\n",
       "      <th>2</th>\n",
       "      <td>rainy</td>\n",
       "      <td>cold</td>\n",
       "      <td>high</td>\n",
       "      <td>strong</td>\n",
       "      <td>warm</td>\n",
       "      <td>change</td>\n",
       "      <td>no</td>\n",
       "    </tr>\n",
       "    <tr>\n",
       "      <th>3</th>\n",
       "      <td>sunny</td>\n",
       "      <td>warm</td>\n",
       "      <td>high</td>\n",
       "      <td>strong</td>\n",
       "      <td>cool</td>\n",
       "      <td>change</td>\n",
       "      <td>yes</td>\n",
       "    </tr>\n",
       "  </tbody>\n",
       "</table>\n",
       "</div>"
      ],
      "text/plain": [
       "     sky air temp humidity    wind water forecast enjoy sport\n",
       "0  sunny     warm   normal  strong  warm     same        yes \n",
       "1  sunny     warm     high  strong  warm     same         yes\n",
       "2  rainy     cold     high  strong  warm   change          no\n",
       "3  sunny     warm     high  strong  cool   change         yes"
      ]
     },
     "execution_count": 18,
     "metadata": {},
     "output_type": "execute_result"
    }
   ],
   "source": [
    "data"
   ]
  },
  {
   "cell_type": "code",
   "execution_count": 19,
   "id": "114c66c4",
   "metadata": {},
   "outputs": [],
   "source": [
    "attribute=np.array(data)[:,:-1]"
   ]
  },
  {
   "cell_type": "code",
   "execution_count": 20,
   "id": "46e9781d",
   "metadata": {},
   "outputs": [
    {
     "data": {
      "text/plain": [
       "array([['sunny', 'warm', 'normal', 'strong', 'warm', 'same'],\n",
       "       ['sunny', 'warm', 'high', 'strong', 'warm', 'same'],\n",
       "       ['rainy', 'cold', 'high', 'strong', 'warm', 'change'],\n",
       "       ['sunny', 'warm', 'high', 'strong', 'cool', 'change']],\n",
       "      dtype=object)"
      ]
     },
     "execution_count": 20,
     "metadata": {},
     "output_type": "execute_result"
    }
   ],
   "source": [
    "attribute"
   ]
  },
  {
   "cell_type": "code",
   "execution_count": 21,
   "id": "4bd11942",
   "metadata": {},
   "outputs": [],
   "source": [
    "target=np.array(data)[:,-1]"
   ]
  },
  {
   "cell_type": "code",
   "execution_count": 22,
   "id": "5e1d7480",
   "metadata": {},
   "outputs": [
    {
     "data": {
      "text/plain": [
       "array(['yes ', 'yes', 'no', 'yes'], dtype=object)"
      ]
     },
     "execution_count": 22,
     "metadata": {},
     "output_type": "execute_result"
    }
   ],
   "source": [
    "target"
   ]
  },
  {
   "cell_type": "code",
   "execution_count": 35,
   "id": "a3078b65",
   "metadata": {},
   "outputs": [],
   "source": [
    "def train(att, tar):\n",
    "    # Initialize the specific hypothesis\n",
    "    specific_h = None\n",
    "\n",
    "    # Find the first positive example to initialize the specific hypothesis\n",
    "    for i, val in enumerate(tar):\n",
    "        if val == 'yes':\n",
    "            specific_h = att[i].copy()  # Copy the attributes of the first positive example\n",
    "            break\n",
    "    \n",
    "    if specific_h is None:\n",
    "        return None  # If there are no positive examples, return None\n",
    "\n",
    "    # Update the specific hypothesis based on other positive examples\n",
    "    for i, val in enumerate(att):\n",
    "        if val == 'yes':\n",
    "            for x in range(len(specific_h)):\n",
    "                if val[x] != specific_h[x]:\n",
    "                    specific_h[x] = '?'\n",
    "    \n",
    "    return specific_h"
   ]
  },
  {
   "cell_type": "code",
   "execution_count": 36,
   "id": "8d67a18d",
   "metadata": {},
   "outputs": [
    {
     "ename": "ValueError",
     "evalue": "The truth value of an array with more than one element is ambiguous. Use a.any() or a.all()",
     "output_type": "error",
     "traceback": [
      "\u001b[1;31m---------------------------------------------------------------------------\u001b[0m",
      "\u001b[1;31mValueError\u001b[0m                                Traceback (most recent call last)",
      "Cell \u001b[1;32mIn[36], line 1\u001b[0m\n\u001b[1;32m----> 1\u001b[0m \u001b[38;5;28mprint\u001b[39m(train(attribute,target))\n",
      "Cell \u001b[1;32mIn[35], line 16\u001b[0m, in \u001b[0;36mtrain\u001b[1;34m(att, tar)\u001b[0m\n\u001b[0;32m     14\u001b[0m \u001b[38;5;66;03m# Update the specific hypothesis based on other positive examples\u001b[39;00m\n\u001b[0;32m     15\u001b[0m \u001b[38;5;28;01mfor\u001b[39;00m i, val \u001b[38;5;129;01min\u001b[39;00m \u001b[38;5;28menumerate\u001b[39m(att):\n\u001b[1;32m---> 16\u001b[0m     \u001b[38;5;28;01mif\u001b[39;00m val \u001b[38;5;241m==\u001b[39m \u001b[38;5;124m'\u001b[39m\u001b[38;5;124myes\u001b[39m\u001b[38;5;124m'\u001b[39m:\n\u001b[0;32m     17\u001b[0m         \u001b[38;5;28;01mfor\u001b[39;00m x \u001b[38;5;129;01min\u001b[39;00m \u001b[38;5;28mrange\u001b[39m(\u001b[38;5;28mlen\u001b[39m(specific_h)):\n\u001b[0;32m     18\u001b[0m             \u001b[38;5;28;01mif\u001b[39;00m val[x] \u001b[38;5;241m!=\u001b[39m specific_h[x]:\n",
      "\u001b[1;31mValueError\u001b[0m: The truth value of an array with more than one element is ambiguous. Use a.any() or a.all()"
     ]
    }
   ],
   "source": [
    "print(train(attribute,target))"
   ]
  },
  {
   "cell_type": "code",
   "execution_count": 33,
   "id": "eb03ca54",
   "metadata": {},
   "outputs": [
    {
     "name": "stdout",
     "output_type": "stream",
     "text": [
      "The final specific hypothesis is: ['sunny', 'warm', '?', 'strong', '?', '?']\n"
     ]
    }
   ],
   "source": [
    "def find_s_algorithm(attributes, target):\n",
    "    # Initialize the specific hypothesis to None\n",
    "    specific_h = None\n",
    "\n",
    "    # Iterate through the training examples\n",
    "    for i, val in enumerate(target):\n",
    "        if val == 'yes':\n",
    "            specific_h = attributes[i].copy()\n",
    "            break\n",
    "\n",
    "    # If there are no positive examples, return None\n",
    "    if specific_h is None:\n",
    "        return None\n",
    "\n",
    "    # Update the specific hypothesis based on the positive examples\n",
    "    for i, val in enumerate(target):\n",
    "        if val == 'yes':\n",
    "            for x in range(len(specific_h)):\n",
    "                if attributes[i][x] != specific_h[x]:\n",
    "                    specific_h[x] = '?'\n",
    "\n",
    "    return specific_h\n",
    "\n",
    "# Sample attributes and target values\n",
    "# attributes = [\n",
    "#     ['sunny', 'warm', 'normal', 'strong', 'warm', 'same'],\n",
    "#     ['sunny', 'warm', 'high', 'strong', 'warm', 'same'],\n",
    "#     ['rainy', 'cold', 'high', 'strong', 'warm', 'change'],\n",
    "#     ['sunny', 'warm', 'high', 'strong', 'cool', 'change']\n",
    "# ]\n",
    "\n",
    "# target = ['yes', 'yes', 'no', 'yes']\n",
    "\n",
    "# Run the Find-S algorithm\n",
    "specific_hypothesis = find_s_algorithm(attributes, target)\n",
    "\n",
    "print(\"The final specific hypothesis is:\", specific_hypothesis)\n"
   ]
  },
  {
   "cell_type": "code",
   "execution_count": 34,
   "id": "576e3391",
   "metadata": {},
   "outputs": [
    {
     "name": "stdout",
     "output_type": "stream",
     "text": [
      "The final specific hypothesis is: ['sunny', 'warm', '?', 'strong', '?', '?']\n"
     ]
    }
   ],
   "source": [
    "def find_s_algorithm(attributes, target):\n",
    "    # Initialize the specific hypothesis to None\n",
    "    specific_h = None\n",
    "\n",
    "    # Iterate through the training examples\n",
    "    for i, val in enumerate(target):\n",
    "        if val == 'yes':\n",
    "            specific_h = attributes[i].copy()\n",
    "            break\n",
    "\n",
    "    # If there are no positive examples, return None\n",
    "    if specific_h is None:\n",
    "        return None\n",
    "\n",
    "    # Update the specific hypothesis based on the positive examples\n",
    "    for i, val in enumerate(target):\n",
    "        if val == 'yes':\n",
    "            for x in range(len(specific_h)):\n",
    "                if attributes[i][x] != specific_h[x]:\n",
    "                    specific_h[x] = '?'\n",
    "\n",
    "    return specific_h\n",
    "\n",
    "def read_data_from_file(file_path):\n",
    "    attributes = []\n",
    "    target = []\n",
    "    with open(file_path, 'r') as file:\n",
    "        for line in file:\n",
    "            parts = line.strip().split(',')\n",
    "            attributes.append(parts[:-1])\n",
    "            target.append(parts[-1])\n",
    "    return attributes, target\n",
    "\n",
    "# File path to the data file\n",
    "file_path = 'find.csv'\n",
    "\n",
    "# Read the data from the file\n",
    "attributes, target = read_data_from_file(file_path)\n",
    "\n",
    "# Run the Find-S algorithm\n",
    "specific_hypothesis = find_s_algorithm(attributes, target)\n",
    "\n",
    "print(\"The final specific hypothesis is:\", specific_hypothesis)\n"
   ]
  },
  {
   "cell_type": "code",
   "execution_count": 37,
   "id": "dab151cd",
   "metadata": {},
   "outputs": [],
   "source": [
    "def train(att, tar):\n",
    "    # Initialize the specific hypothesis\n",
    "    specific_h = None\n",
    "\n",
    "    # Find the first positive example to initialize the specific hypothesis\n",
    "    for i, val in enumerate(tar):\n",
    "        if val == 'yes':\n",
    "            specific_h = att[i].copy()  # Copy the attributes of the first positive example\n",
    "            break\n",
    "    \n",
    "    if specific_h is None:\n",
    "        return None  # If there are no positive examples, return None\n",
    "\n",
    "    # Update the specific hypothesis based on other positive examples\n",
    "    for i, val in enumerate(tar):\n",
    "        if val == 'yes':\n",
    "            for x in range(len(specific_h)):\n",
    "                if att[i][x] != specific_h[x]:\n",
    "                    specific_h[x] = '?'\n",
    "    \n",
    "    return specific_h\n"
   ]
  },
  {
   "cell_type": "code",
   "execution_count": 38,
   "id": "a0c9f93a",
   "metadata": {},
   "outputs": [
    {
     "ename": "IndexError",
     "evalue": "index 4 is out of bounds for axis 0 with size 4",
     "output_type": "error",
     "traceback": [
      "\u001b[1;31m---------------------------------------------------------------------------\u001b[0m",
      "\u001b[1;31mIndexError\u001b[0m                                Traceback (most recent call last)",
      "Cell \u001b[1;32mIn[38], line 1\u001b[0m\n\u001b[1;32m----> 1\u001b[0m \u001b[38;5;28mprint\u001b[39m(train(attribute,target))\n",
      "Cell \u001b[1;32mIn[37], line 18\u001b[0m, in \u001b[0;36mtrain\u001b[1;34m(att, tar)\u001b[0m\n\u001b[0;32m     16\u001b[0m     \u001b[38;5;28;01mif\u001b[39;00m val \u001b[38;5;241m==\u001b[39m \u001b[38;5;124m'\u001b[39m\u001b[38;5;124myes\u001b[39m\u001b[38;5;124m'\u001b[39m:\n\u001b[0;32m     17\u001b[0m         \u001b[38;5;28;01mfor\u001b[39;00m x \u001b[38;5;129;01min\u001b[39;00m \u001b[38;5;28mrange\u001b[39m(\u001b[38;5;28mlen\u001b[39m(specific_h)):\n\u001b[1;32m---> 18\u001b[0m             \u001b[38;5;28;01mif\u001b[39;00m att[i][x] \u001b[38;5;241m!=\u001b[39m specific_h[x]:\n\u001b[0;32m     19\u001b[0m                 specific_h[x] \u001b[38;5;241m=\u001b[39m \u001b[38;5;124m'\u001b[39m\u001b[38;5;124m?\u001b[39m\u001b[38;5;124m'\u001b[39m\n\u001b[0;32m     21\u001b[0m \u001b[38;5;28;01mreturn\u001b[39;00m specific_h\n",
      "\u001b[1;31mIndexError\u001b[0m: index 4 is out of bounds for axis 0 with size 4"
     ]
    }
   ],
   "source": [
    "print(train(attribute,target))"
   ]
  },
  {
   "cell_type": "code",
   "execution_count": 41,
   "id": "fe8ae182",
   "metadata": {},
   "outputs": [
    {
     "name": "stdout",
     "output_type": "stream",
     "text": [
      "The final specific hypothesis is: ['sunny', 'warm', '?', 'strong', '?', '?']\n"
     ]
    }
   ],
   "source": [
    "## working \n",
    "import numpy as np\n",
    "import pandas as pd\n",
    "# File path to the data file\n",
    "file_path = 'find.csv'\n",
    "\n",
    "# Read the data from the file\n",
    "attributes, target = read_data_from_file(file_path)\n",
    "\n",
    "# Run the Find-S algorithm\n",
    "\n",
    "def train(att, tar):\n",
    "    # Initialize the specific hypothesis\n",
    "    specific_h = None\n",
    "\n",
    "    # Find the first positive example to initialize the specific hypothesis\n",
    "    for i, val in enumerate(tar):\n",
    "        if val == 'yes':\n",
    "            specific_h = att[i].copy()  # Copy the attributes of the first positive example\n",
    "            break\n",
    "    \n",
    "    if specific_h is None:\n",
    "        return None  # If there are no positive examples, return None\n",
    "\n",
    "    # Update the specific hypothesis based on other positive examples\n",
    "    for i, val in enumerate(tar):\n",
    "        if val == 'yes':\n",
    "            for x in range(len(specific_h)):\n",
    "                if att[i][x] != specific_h[x]:\n",
    "                    specific_h[x] = '?'\n",
    "    \n",
    "    return specific_h\n",
    "\n",
    "# Example usage:\n",
    "def read_data_from_file(file_path):\n",
    "    attributes = []\n",
    "    target = []\n",
    "    with open(file_path, 'r') as file:\n",
    "        for line in file:\n",
    "            parts = line.strip().split(',')\n",
    "            attributes.append(parts[:-1])\n",
    "            target.append(parts[-1])\n",
    "    return attributes, target\n",
    "\n",
    "\n",
    "specific_hypothesis = train(attributes, target)\n",
    "\n",
    "print(\"The final specific hypothesis is:\", specific_hypothesis)\n"
   ]
  },
  {
   "cell_type": "code",
   "execution_count": 40,
   "id": "994ae36d",
   "metadata": {},
   "outputs": [
    {
     "ename": "IndexError",
     "evalue": "index 4 is out of bounds for axis 0 with size 4",
     "output_type": "error",
     "traceback": [
      "\u001b[1;31m---------------------------------------------------------------------------\u001b[0m",
      "\u001b[1;31mIndexError\u001b[0m                                Traceback (most recent call last)",
      "Cell \u001b[1;32mIn[40], line 23\u001b[0m\n\u001b[0;32m     19\u001b[0m                     specific_h[x] \u001b[38;5;241m=\u001b[39m \u001b[38;5;124m'\u001b[39m\u001b[38;5;124m?\u001b[39m\u001b[38;5;124m'\u001b[39m\n\u001b[0;32m     21\u001b[0m     \u001b[38;5;28;01mreturn\u001b[39;00m specific_h\n\u001b[1;32m---> 23\u001b[0m \u001b[38;5;28mprint\u001b[39m(train(attribute,target))\n",
      "Cell \u001b[1;32mIn[40], line 18\u001b[0m, in \u001b[0;36mtrain\u001b[1;34m(att, tar)\u001b[0m\n\u001b[0;32m     16\u001b[0m     \u001b[38;5;28;01mif\u001b[39;00m val \u001b[38;5;241m==\u001b[39m \u001b[38;5;124m'\u001b[39m\u001b[38;5;124myes\u001b[39m\u001b[38;5;124m'\u001b[39m:\n\u001b[0;32m     17\u001b[0m         \u001b[38;5;28;01mfor\u001b[39;00m x \u001b[38;5;129;01min\u001b[39;00m \u001b[38;5;28mrange\u001b[39m(\u001b[38;5;28mlen\u001b[39m(specific_h)):\n\u001b[1;32m---> 18\u001b[0m             \u001b[38;5;28;01mif\u001b[39;00m att[i][x] \u001b[38;5;241m!=\u001b[39m specific_h[x]:\n\u001b[0;32m     19\u001b[0m                 specific_h[x] \u001b[38;5;241m=\u001b[39m \u001b[38;5;124m'\u001b[39m\u001b[38;5;124m?\u001b[39m\u001b[38;5;124m'\u001b[39m\n\u001b[0;32m     21\u001b[0m \u001b[38;5;28;01mreturn\u001b[39;00m specific_h\n",
      "\u001b[1;31mIndexError\u001b[0m: index 4 is out of bounds for axis 0 with size 4"
     ]
    }
   ],
   "source": [
    "def train(att, tar):\n",
    "    # Initialize the specific hypothesis\n",
    "    specific_h = None\n",
    "\n",
    "    # Find the first positive example to initialize the specific hypothesis\n",
    "    for i, val in enumerate(tar):\n",
    "        if val == 'yes':\n",
    "            specific_h = att[i].copy()  # Copy the attributes of the first positive example\n",
    "            break\n",
    "    \n",
    "    if specific_h is None:\n",
    "        return None  # If there are no positive examples, return None\n",
    "\n",
    "    # Update the specific hypothesis based on other positive examples\n",
    "    for i, val in enumerate(tar):\n",
    "        if val == 'yes':\n",
    "            for x in range(len(specific_h)):\n",
    "                if att[i][x] != specific_h[x]:\n",
    "                    specific_h[x] = '?'\n",
    "    \n",
    "    return specific_h\n",
    "\n",
    "print(train(attribute,target))"
   ]
  },
  {
   "cell_type": "code",
   "execution_count": 42,
   "id": "324e5fa2",
   "metadata": {},
   "outputs": [
    {
     "ename": "IndexError",
     "evalue": "index 4 is out of bounds for axis 0 with size 4",
     "output_type": "error",
     "traceback": [
      "\u001b[1;31m---------------------------------------------------------------------------\u001b[0m",
      "\u001b[1;31mIndexError\u001b[0m                                Traceback (most recent call last)",
      "Cell \u001b[1;32mIn[42], line 22\u001b[0m\n\u001b[0;32m     19\u001b[0m                     specific_h[x] \u001b[38;5;241m=\u001b[39m \u001b[38;5;124m'\u001b[39m\u001b[38;5;124m?\u001b[39m\u001b[38;5;124m'\u001b[39m\n\u001b[0;32m     21\u001b[0m     \u001b[38;5;28;01mreturn\u001b[39;00m specific_h\n\u001b[1;32m---> 22\u001b[0m \u001b[38;5;28mprint\u001b[39m(train(attribute,target))\n",
      "Cell \u001b[1;32mIn[42], line 18\u001b[0m, in \u001b[0;36mtrain\u001b[1;34m(att, tar)\u001b[0m\n\u001b[0;32m     16\u001b[0m     \u001b[38;5;28;01mif\u001b[39;00m val \u001b[38;5;241m==\u001b[39m \u001b[38;5;124m'\u001b[39m\u001b[38;5;124myes\u001b[39m\u001b[38;5;124m'\u001b[39m:\n\u001b[0;32m     17\u001b[0m         \u001b[38;5;28;01mfor\u001b[39;00m x \u001b[38;5;129;01min\u001b[39;00m \u001b[38;5;28mrange\u001b[39m(\u001b[38;5;28mlen\u001b[39m(specific_h)):\n\u001b[1;32m---> 18\u001b[0m             \u001b[38;5;28;01mif\u001b[39;00m att[i][x] \u001b[38;5;241m!=\u001b[39m specific_h[x]:\n\u001b[0;32m     19\u001b[0m                 specific_h[x] \u001b[38;5;241m=\u001b[39m \u001b[38;5;124m'\u001b[39m\u001b[38;5;124m?\u001b[39m\u001b[38;5;124m'\u001b[39m\n\u001b[0;32m     21\u001b[0m \u001b[38;5;28;01mreturn\u001b[39;00m specific_h\n",
      "\u001b[1;31mIndexError\u001b[0m: index 4 is out of bounds for axis 0 with size 4"
     ]
    }
   ],
   "source": [
    "def train(att, tar):\n",
    "    # Initialize the specific hypothesis\n",
    "    specific_h = None\n",
    "\n",
    "    # Find the first positive example to initialize the specific hypothesis\n",
    "    for i, val in enumerate(tar):\n",
    "        if val == 'yes':\n",
    "            specific_h = att[i].copy()  # Copy the attributes of the first positive example\n",
    "            break\n",
    "    \n",
    "    if specific_h is None:\n",
    "        return None  # If there are no positive examples, return None\n",
    "\n",
    "    # Update the specific hypothesis based on other positive examples\n",
    "    for i, val in enumerate(tar):\n",
    "        if val == 'yes':\n",
    "            for x in range(len(specific_h)):\n",
    "                if att[i][x] != specific_h[x]:\n",
    "                    specific_h[x] = '?'\n",
    "    \n",
    "    return specific_h\n",
    "print(train(attribute,target))"
   ]
  },
  {
   "cell_type": "code",
   "execution_count": null,
   "id": "5d5fc51f",
   "metadata": {},
   "outputs": [],
   "source": []
  }
 ],
 "metadata": {
  "kernelspec": {
   "display_name": "Python 3 (ipykernel)",
   "language": "python",
   "name": "python3"
  },
  "language_info": {
   "codemirror_mode": {
    "name": "ipython",
    "version": 3
   },
   "file_extension": ".py",
   "mimetype": "text/x-python",
   "name": "python",
   "nbconvert_exporter": "python",
   "pygments_lexer": "ipython3",
   "version": "3.11.4"
  }
 },
 "nbformat": 4,
 "nbformat_minor": 5
}
