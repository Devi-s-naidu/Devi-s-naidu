{
 "cells": [
  {
   "cell_type": "markdown",
   "id": "8689061f",
   "metadata": {},
   "source": [
    "# importing models"
   ]
  },
  {
   "cell_type": "code",
   "execution_count": 14,
   "id": "e2f989fd",
   "metadata": {},
   "outputs": [],
   "source": [
    "import tensorflow as tf \n",
    "from tensorflow.keras import layers\n",
    "from tensorflow.keras.models import Sequential\n",
    "from tensorflow.keras.preprocessing.text import Tokenizer\n",
    "from tensorflow.keras.preprocessing.sequence import pad_sequences\n",
    "from sklearn.model_selection import train_test_split\n",
    "import csv\n",
    "import numpy as np\n",
    "import pandas as pd"
   ]
  },
  {
   "cell_type": "markdown",
   "id": "77909769",
   "metadata": {},
   "source": [
    "# loading dataset"
   ]
  },
  {
   "cell_type": "code",
   "execution_count": 27,
   "id": "d736a5de",
   "metadata": {},
   "outputs": [
    {
     "data": {
      "text/html": [
       "<div>\n",
       "<style scoped>\n",
       "    .dataframe tbody tr th:only-of-type {\n",
       "        vertical-align: middle;\n",
       "    }\n",
       "\n",
       "    .dataframe tbody tr th {\n",
       "        vertical-align: top;\n",
       "    }\n",
       "\n",
       "    .dataframe thead th {\n",
       "        text-align: right;\n",
       "    }\n",
       "</style>\n",
       "<table border=\"1\" class=\"dataframe\">\n",
       "  <thead>\n",
       "    <tr style=\"text-align: right;\">\n",
       "      <th></th>\n",
       "      <th>news_headline</th>\n",
       "      <th>news_category</th>\n",
       "    </tr>\n",
       "  </thead>\n",
       "  <tbody>\n",
       "    <tr>\n",
       "      <th>0</th>\n",
       "      <td>saudi arabia open air space land maritime bord...</td>\n",
       "      <td>world</td>\n",
       "    </tr>\n",
       "    <tr>\n",
       "      <th>1</th>\n",
       "      <td>indian railway use facial recognition end desp...</td>\n",
       "      <td>tech</td>\n",
       "    </tr>\n",
       "    <tr>\n",
       "      <th>2</th>\n",
       "      <td>u pursuing seditious conspiracy case unprecede...</td>\n",
       "      <td>world</td>\n",
       "    </tr>\n",
       "    <tr>\n",
       "      <th>3</th>\n",
       "      <td>coronavirus outbreak hertha berlin striker sal...</td>\n",
       "      <td>health</td>\n",
       "    </tr>\n",
       "    <tr>\n",
       "      <th>4</th>\n",
       "      <td>google former ceo urge u govt invest artificia...</td>\n",
       "      <td>tech</td>\n",
       "    </tr>\n",
       "    <tr>\n",
       "      <th>5</th>\n",
       "      <td>amid record u case new white house outbreak tr...</td>\n",
       "      <td>world</td>\n",
       "    </tr>\n",
       "    <tr>\n",
       "      <th>6</th>\n",
       "      <td>india inoculates cr report covid upsurge five ...</td>\n",
       "      <td>india</td>\n",
       "    </tr>\n",
       "    <tr>\n",
       "      <th>7</th>\n",
       "      <td>u rescinds trump administration claim u n sanc...</td>\n",
       "      <td>world</td>\n",
       "    </tr>\n",
       "    <tr>\n",
       "      <th>8</th>\n",
       "      <td>govt working relief plan sc order vodafone ide...</td>\n",
       "      <td>tech</td>\n",
       "    </tr>\n",
       "    <tr>\n",
       "      <th>9</th>\n",
       "      <td>india first indigenous pneumonia vaccine devel...</td>\n",
       "      <td>health</td>\n",
       "    </tr>\n",
       "  </tbody>\n",
       "</table>\n",
       "</div>"
      ],
      "text/plain": [
       "                                       news_headline news_category\n",
       "0  saudi arabia open air space land maritime bord...         world\n",
       "1  indian railway use facial recognition end desp...          tech\n",
       "2  u pursuing seditious conspiracy case unprecede...         world\n",
       "3  coronavirus outbreak hertha berlin striker sal...        health\n",
       "4  google former ceo urge u govt invest artificia...          tech\n",
       "5  amid record u case new white house outbreak tr...         world\n",
       "6  india inoculates cr report covid upsurge five ...         india\n",
       "7  u rescinds trump administration claim u n sanc...         world\n",
       "8  govt working relief plan sc order vodafone ide...          tech\n",
       "9  india first indigenous pneumonia vaccine devel...        health"
      ]
     },
     "execution_count": 27,
     "metadata": {},
     "output_type": "execute_result"
    }
   ],
   "source": [
    "df = pd.read_csv(r'C:\\Users\\DELL\\Downloads\\news_headlines.csv')\n",
    "df.head(n=10)\n"
   ]
  },
  {
   "cell_type": "markdown",
   "id": "90a9e875",
   "metadata": {},
   "source": [
    "# Train-Test Split"
   ]
  },
  {
   "cell_type": "code",
   "execution_count": 28,
   "id": "d03b1cbd",
   "metadata": {},
   "outputs": [
    {
     "data": {
      "image/png": "[encoded data removed]",
      "text/plain": [
       "<Figure size 640x480 with 1 Axes>"
      ]
     },
     "metadata": {},
     "output_type": "display_data"
    }
   ],
   "source": [
    "training_data,testing_data =  train_test_split(df.iloc[:5000,:],test_size=0.2)  \n",
    "# 80% training data\n",
    "import matplotlib.pyplot as plt\n",
    "# plotting distribution of each news_category in training& testing data\n",
    "plt.plot(training_data['news_category'].value_counts())\n",
    "plt.plot(testing_data['news_category'].value_counts())\n",
    "plt.title('Train-Test Split Visualization')\n",
    "plt.show()"
   ]
  },
  {
   "cell_type": "markdown",
   "id": "f90434bf",
   "metadata": {},
   "source": [
    "# tokenization"
   ]
  },
  {
   "cell_type": "code",
   "execution_count": 34,
   "id": "edbda4a9",
   "metadata": {},
   "outputs": [
    {
     "ename": "KeyError",
     "evalue": "'entertainment'",
     "output_type": "error",
     "traceback": [
      "\u001b[1;31m---------------------------------------------------------------------------\u001b[0m",
      "\u001b[1;31mKeyError\u001b[0m                                  Traceback (most recent call last)",
      "Cell \u001b[1;32mIn[34], line 20\u001b[0m\n\u001b[0;32m     16\u001b[0m tokenizer,X_train,X_test \u001b[38;5;241m=\u001b[39m tokenization_(training_data[\u001b[38;5;124m'\u001b[39m\u001b[38;5;124mnews_headline\u001b[39m\u001b[38;5;124m'\u001b[39m],\n\u001b[0;32m     17\u001b[0m                                          testing_data[\u001b[38;5;124m'\u001b[39m\u001b[38;5;124mnews_headline\u001b[39m\u001b[38;5;124m'\u001b[39m])\n\u001b[0;32m     19\u001b[0m labels \u001b[38;5;241m=\u001b[39m {\u001b[38;5;124m'\u001b[39m\u001b[38;5;124msports\u001b[39m\u001b[38;5;124m'\u001b[39m:[\u001b[38;5;241m0\u001b[39m,\u001b[38;5;241m1\u001b[39m,\u001b[38;5;241m0\u001b[39m],\u001b[38;5;124m'\u001b[39m\u001b[38;5;124mtech\u001b[39m\u001b[38;5;124m'\u001b[39m:[\u001b[38;5;241m1\u001b[39m,\u001b[38;5;241m0\u001b[39m,\u001b[38;5;241m0\u001b[39m],\u001b[38;5;124m'\u001b[39m\u001b[38;5;124mworld\u001b[39m\u001b[38;5;124m'\u001b[39m:[\u001b[38;5;241m0\u001b[39m,\u001b[38;5;241m0\u001b[39m,\u001b[38;5;241m1\u001b[39m]}\n\u001b[1;32m---> 20\u001b[0m Y_train \u001b[38;5;241m=\u001b[39m np\u001b[38;5;241m.\u001b[39marray([labels[y] \u001b[38;5;28;01mfor\u001b[39;00m y \u001b[38;5;129;01min\u001b[39;00m training_data[\u001b[38;5;124m'\u001b[39m\u001b[38;5;124mnews_category\u001b[39m\u001b[38;5;124m'\u001b[39m]])\n\u001b[0;32m     21\u001b[0m Y_test \u001b[38;5;241m=\u001b[39m np\u001b[38;5;241m.\u001b[39marray([labels[y]  \u001b[38;5;28;01mfor\u001b[39;00m y \u001b[38;5;129;01min\u001b[39;00m testing_data[\u001b[38;5;124m'\u001b[39m\u001b[38;5;124mnews_category\u001b[39m\u001b[38;5;124m'\u001b[39m] ])\n",
      "Cell \u001b[1;32mIn[34], line 20\u001b[0m, in \u001b[0;36m<listcomp>\u001b[1;34m(.0)\u001b[0m\n\u001b[0;32m     16\u001b[0m tokenizer,X_train,X_test \u001b[38;5;241m=\u001b[39m tokenization_(training_data[\u001b[38;5;124m'\u001b[39m\u001b[38;5;124mnews_headline\u001b[39m\u001b[38;5;124m'\u001b[39m],\n\u001b[0;32m     17\u001b[0m                                          testing_data[\u001b[38;5;124m'\u001b[39m\u001b[38;5;124mnews_headline\u001b[39m\u001b[38;5;124m'\u001b[39m])\n\u001b[0;32m     19\u001b[0m labels \u001b[38;5;241m=\u001b[39m {\u001b[38;5;124m'\u001b[39m\u001b[38;5;124msports\u001b[39m\u001b[38;5;124m'\u001b[39m:[\u001b[38;5;241m0\u001b[39m,\u001b[38;5;241m1\u001b[39m,\u001b[38;5;241m0\u001b[39m],\u001b[38;5;124m'\u001b[39m\u001b[38;5;124mtech\u001b[39m\u001b[38;5;124m'\u001b[39m:[\u001b[38;5;241m1\u001b[39m,\u001b[38;5;241m0\u001b[39m,\u001b[38;5;241m0\u001b[39m],\u001b[38;5;124m'\u001b[39m\u001b[38;5;124mworld\u001b[39m\u001b[38;5;124m'\u001b[39m:[\u001b[38;5;241m0\u001b[39m,\u001b[38;5;241m0\u001b[39m,\u001b[38;5;241m1\u001b[39m]}\n\u001b[1;32m---> 20\u001b[0m Y_train \u001b[38;5;241m=\u001b[39m np\u001b[38;5;241m.\u001b[39marray([labels[y] \u001b[38;5;28;01mfor\u001b[39;00m y \u001b[38;5;129;01min\u001b[39;00m training_data[\u001b[38;5;124m'\u001b[39m\u001b[38;5;124mnews_category\u001b[39m\u001b[38;5;124m'\u001b[39m]])\n\u001b[0;32m     21\u001b[0m Y_test \u001b[38;5;241m=\u001b[39m np\u001b[38;5;241m.\u001b[39marray([labels[y]  \u001b[38;5;28;01mfor\u001b[39;00m y \u001b[38;5;129;01min\u001b[39;00m testing_data[\u001b[38;5;124m'\u001b[39m\u001b[38;5;124mnews_category\u001b[39m\u001b[38;5;124m'\u001b[39m] ])\n",
      "\u001b[1;31mKeyError\u001b[0m: 'entertainment'"
     ]
    }
   ],
   "source": [
    "def tokenization_(training_headings, testing_headings, max_length=20,vocab_size = 5000):\n",
    "    tokenizer = Tokenizer(num_words = vocab_size, oov_token= '<oov>')\n",
    "    #Tokenization and padding\n",
    " \n",
    "    tokenizer.fit_on_texts(training_headings)\n",
    "    word_index = tokenizer.word_index\n",
    "    training_sequences = tokenizer.texts_to_sequences(training_headings)\n",
    "    training_padded = pad_sequences(training_sequences,padding= 'post',maxlen = max_length, truncating='post')\n",
    " \n",
    " \n",
    "    testing_sequences = tokenizer.texts_to_sequences(testing_headings)\n",
    "    testing_padded = pad_sequences(testing_sequences,padding= 'post',maxlen = max_length, truncating='post')\n",
    " \n",
    "    return tokenizer,training_padded,testing_padded\n",
    "\n",
    "tokenizer,X_train,X_test = tokenization_(training_data['news_headline'],\n",
    "                                         testing_data['news_headline'])\n",
    " \n",
    "labels = {'sports':[0,1,0],'tech':[1,0,0],'world':[0,0,1]}\n",
    "Y_train = np.array([labels[y] for y in training_data['news_category']])\n",
    "Y_test = np.array([labels[y]  for y in testing_data['news_category'] ])\n"
   ]
  },
  {
   "cell_type": "markdown",
   "id": "049e9d93",
   "metadata": {},
   "source": [
    "# building neural network"
   ]
  },
  {
   "cell_type": "code",
   "execution_count": 35,
   "id": "bc6c3707",
   "metadata": {},
   "outputs": [],
   "source": [
    "def build_model( n, vocab_size, embedding_size):\n",
    "    model = tf.keras.models.Sequential()\n",
    "    model.add(tf.keras.layers.Embedding(vocab_size,\n",
    "              embedding_size,input_length=n))\n",
    "    model.add(tf.keras.layers.GlobalAveragePooling1D()) \n",
    "    model.add(tf.keras.layers.Dense(3,activation = 'softmax'))       \n",
    "    model.compile(loss='categorical_crossentropy',optimizer='adam',\n",
    "                   metrics='accuracy')\n",
    "    print(model.summary())\n",
    "    return model"
   ]
  },
  {
   "cell_type": "markdown",
   "id": "53e220c3",
   "metadata": {},
   "source": [
    "# train the neural model"
   ]
  },
  {
   "cell_type": "code",
   "execution_count": 36,
   "id": "97a44d58",
   "metadata": {},
   "outputs": [
    {
     "ename": "NameError",
     "evalue": "name 'model' is not defined",
     "output_type": "error",
     "traceback": [
      "\u001b[1;31m---------------------------------------------------------------------------\u001b[0m",
      "\u001b[1;31mNameError\u001b[0m                                 Traceback (most recent call last)",
      "Cell \u001b[1;32mIn[36], line 2\u001b[0m\n\u001b[0;32m      1\u001b[0m epochs \u001b[38;5;241m=\u001b[39m \u001b[38;5;241m25\u001b[39m\n\u001b[1;32m----> 2\u001b[0m history \u001b[38;5;241m=\u001b[39m model\u001b[38;5;241m.\u001b[39mfit(X_train,Y_train,\n\u001b[0;32m      3\u001b[0m                     validation_data \u001b[38;5;241m=\u001b[39m (X_test,Y_test),\n\u001b[0;32m      4\u001b[0m                     epochs \u001b[38;5;241m=\u001b[39m epochs)\n",
      "\u001b[1;31mNameError\u001b[0m: name 'model' is not defined"
     ]
    }
   ],
   "source": [
    "epochs = 25\n",
    "history = model.fit(X_train,Y_train,\n",
    "                    validation_data = (X_test,Y_test),\n",
    "                    epochs = epochs)"
   ]
  }
 ],
 "metadata": {
  "kernelspec": {
   "display_name": "Python 3 (ipykernel)",
   "language": "python",
   "name": "python3"
  },
  "language_info": {
   "codemirror_mode": {
    "name": "ipython",
    "version": 3
   },
   "file_extension": ".py",
   "mimetype": "text/x-python",
   "name": "python",
   "nbconvert_exporter": "python",
   "pygments_lexer": "ipython3",
   "version": "3.11.4"
  }
 },
 "nbformat": 4,
 "nbformat_minor": 5
}
