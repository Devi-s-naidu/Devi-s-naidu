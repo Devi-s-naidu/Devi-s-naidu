{
 "cells": [
  {
   "cell_type": "code",
   "execution_count": 5,
   "id": "a0c3a3ef",
   "metadata": {},
   "outputs": [
    {
     "data": {
      "text/plain": [
       "True"
      ]
     },
     "execution_count": 5,
     "metadata": {},
     "output_type": "execute_result"
    }
   ],
   "source": [
    "#filtering\n",
    "import numpy as np\n",
    "import cv2\n",
    "\n",
    "path = r\"C:\\Users\\DELL\\Desktop\\downloads\\dhoni.jpg\"\n",
    "img=cv2.imread(path)\n",
    "\n",
    "kernel1=np.array([[-6,-6,-6],[-6,49,-6],[-6,-6,-6]])\n",
    "kernel2=np.array([[0,3,6],[-3,0,3],[-6,-3,0]])\n",
    "\n",
    "out1=cv2.filter2D(src=img,ddepth=-1,kernel=kernel2)\n",
    "cv2.imwrite(r\"C:\\Users\\DELL\\Desktop\\downloads\\filter.jpg\",out1)"
   ]
  },
  {
   "cell_type": "code",
   "execution_count": 6,
   "id": "bcbabfb7",
   "metadata": {},
   "outputs": [
    {
     "data": {
      "text/plain": [
       "True"
      ]
     },
     "execution_count": 6,
     "metadata": {},
     "output_type": "execute_result"
    }
   ],
   "source": [
    "#histogram equalization\n",
    "path = r\"C:\\Users\\DELL\\Desktop\\downloads\\dhoni.jpg\"\n",
    "img=cv2.imread(path)\n",
    "gray = cv2.cvtColor(img,cv2.COLOR_BGR2GRAY)\n",
    "cv2.imwrite(r\"C:\\Users\\DELL\\Desktop\\downloads\\gray.jpg\",gray)\n",
    "out_hist = cv2.equalizeHist(gray)\n",
    "cv2.imwrite(r\"C:\\Users\\DELL\\Desktop\\downloads\\hist.jpg\",out_hist)"
   ]
  }
 ],
 "metadata": {
  "kernelspec": {
   "display_name": "Python 3 (ipykernel)",
   "language": "python",
   "name": "python3"
  },
  "language_info": {
   "codemirror_mode": {
    "name": "ipython",
    "version": 3
   },
   "file_extension": ".py",
   "mimetype": "text/x-python",
   "name": "python",
   "nbconvert_exporter": "python",
   "pygments_lexer": "ipython3",
   "version": "3.11.4"
  }
 },
 "nbformat": 4,
 "nbformat_minor": 5
}
